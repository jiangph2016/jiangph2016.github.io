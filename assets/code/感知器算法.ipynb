{
  "nbformat": 4,
  "nbformat_minor": 0,
  "metadata": {
    "colab": {
      "name": "感知器算法.ipynb",
      "provenance": [],
      "collapsed_sections": []
    },
    "kernelspec": {
      "name": "python3",
      "display_name": "Python 3"
    }
  },
  "cells": [
    {
      "cell_type": "code",
      "metadata": {
        "id": "cDDKH8l-T5wv",
        "colab_type": "code",
        "colab": {}
      },
      "source": [
        "# -*- coding:utf-8"
      ],
      "execution_count": 0,
      "outputs": []
    },
    {
      "cell_type": "code",
      "metadata": {
        "id": "PZVAkh17qLXD",
        "colab_type": "code",
        "colab": {}
      },
      "source": [
        "import numpy as np"
      ],
      "execution_count": 0,
      "outputs": []
    },
    {
      "cell_type": "code",
      "metadata": {
        "id": "RwLGLRFkR1DO",
        "colab_type": "code",
        "colab": {}
      },
      "source": [
        "dim = 3"
      ],
      "execution_count": 0,
      "outputs": []
    },
    {
      "cell_type": "code",
      "metadata": {
        "id": "VKwnSw60qOwL",
        "colab_type": "code",
        "colab": {}
      },
      "source": [
        "a = [[0,0,0],[1,0,0],[1,0,1],[1,1,0]]\n",
        "#print(a1)"
      ],
      "execution_count": 0,
      "outputs": []
    },
    {
      "cell_type": "code",
      "metadata": {
        "id": "8hVddKVCq8Cb",
        "colab_type": "code",
        "colab": {}
      },
      "source": [
        "b = [[0,0,1],[0,1,1],[0,1,0],[1,1,1]]\n",
        "#数据定义"
      ],
      "execution_count": 0,
      "outputs": []
    },
    {
      "cell_type": "code",
      "metadata": {
        "id": "hKcD2s4DrHF1",
        "colab_type": "code",
        "colab": {}
      },
      "source": [
        "a_num = len(a)\n",
        "b_num = len(b)"
      ],
      "execution_count": 0,
      "outputs": []
    },
    {
      "cell_type": "code",
      "metadata": {
        "id": "SQ6dCms_rc4W",
        "colab_type": "code",
        "colab": {
          "base_uri": "https://localhost:8080/",
          "height": 85
        },
        "outputId": "8cab6741-39db-4a1a-ea82-486eb720e29f"
      },
      "source": [
        "a_array=[]\n",
        "for i in range(a_num):\n",
        "  a[i].append(1)\n",
        "  tmp_narry = np.array(a[i])\n",
        "  print(tmp_narr)\n",
        "  a_array.append(tmp_narry)"
      ],
      "execution_count": 92,
      "outputs": [
        {
          "output_type": "stream",
          "text": [
            "[0 0 0 1]\n",
            "[0 0 0 1]\n",
            "[0 0 0 1]\n",
            "[0 0 0 1]\n"
          ],
          "name": "stdout"
        }
      ]
    },
    {
      "cell_type": "code",
      "metadata": {
        "id": "BpnQNAFars8V",
        "colab_type": "code",
        "colab": {
          "base_uri": "https://localhost:8080/",
          "height": 85
        },
        "outputId": "46cfb593-cfb7-4c01-849d-93ef81dc703f"
      },
      "source": [
        "b_array=[]\n",
        "for i in range(b_num):\n",
        "  b[i].append(1)\n",
        "  b[i] = np.dot(b[i],-1)\n",
        "  tmp_narry = np.array(b[i])\n",
        "  print(tmp_narr)\n",
        "  b_array.append(tmp_narry)"
      ],
      "execution_count": 93,
      "outputs": [
        {
          "output_type": "stream",
          "text": [
            "[0 0 0 1]\n",
            "[0 0 0 1]\n",
            "[0 0 0 1]\n",
            "[0 0 0 1]\n"
          ],
          "name": "stdout"
        }
      ]
    },
    {
      "cell_type": "code",
      "metadata": {
        "id": "fTrKg6HKtbiE",
        "colab_type": "code",
        "colab": {
          "base_uri": "https://localhost:8080/",
          "height": 34
        },
        "outputId": "2c4a1244-0f55-4fab-fd32-f74e23b61ae5"
      },
      "source": [
        "print(b_array)"
      ],
      "execution_count": 94,
      "outputs": [
        {
          "output_type": "stream",
          "text": [
            "[array([ 0,  0, -1, -1]), array([ 0, -1, -1, -1]), array([ 0, -1,  0, -1]), array([-1, -1, -1, -1])]\n"
          ],
          "name": "stdout"
        }
      ]
    },
    {
      "cell_type": "code",
      "metadata": {
        "id": "KlIPr8tfMnD7",
        "colab_type": "code",
        "colab": {
          "base_uri": "https://localhost:8080/",
          "height": 884
        },
        "outputId": "4643a814-206d-4d96-d682-5555b853f28a"
      },
      "source": [
        "print(a_array,\"\\n\",b_array)\n",
        "array = a_array+b_array\n",
        "print(array)\n",
        "w = np.zeros(dim+1).T\n",
        "print(w)\n",
        "C = 0.5\n",
        "#初始参数\n",
        "w_num = 0\n",
        "iter_num = 1\n",
        "while True:\n",
        "  flag = False\n",
        "  print(\"第%d轮迭代:\"%iter_num)\n",
        "  for arr in array:\n",
        "    res = np.dot(arr,w)\n",
        "    print(arr,\"*\",w,end='')\n",
        "    if res<=0:\n",
        "      print(\"=\"+str(res)+\"<=0\",end='   ')\n",
        "      print(\"故w(\"+str(w_num+1)+\")=w(\"+str(w_num)+\")+\",arr)\n",
        "      w = w + np.dot(arr,C)\n",
        "      flag=True\n",
        "    else:\n",
        "      print(\"=\"+str(res)+\">0\",end='   ')\n",
        "      print(\"故w(\"+str(w_num+1)+\")=w(\"+str(w_num)+\")\")\n",
        "    w_num = w_num + 1\n",
        "  iter_num = iter_num + 1\n",
        "  if flag==False or iter_num>999:\n",
        "    break\n",
        "print(\"w:\",w)\n",
        "print(\"d(x)=\"+str(w[0])+\"*X1+\"+str(w[1])+\"*X2+\"+str(w[2])+\"*X3+\"+str(w[3]))"
      ],
      "execution_count": 110,
      "outputs": [
        {
          "output_type": "stream",
          "text": [
            "[array([0, 0, 0, 1]), array([1, 0, 0, 1]), array([1, 0, 1, 1]), array([1, 1, 0, 1])] \n",
            " [array([ 0,  0, -1, -1]), array([ 0, -1, -1, -1]), array([ 0, -1,  0, -1]), array([-1, -1, -1, -1])]\n",
            "[array([0, 0, 0, 1]), array([1, 0, 0, 1]), array([1, 0, 1, 1]), array([1, 1, 0, 1]), array([ 0,  0, -1, -1]), array([ 0, -1, -1, -1]), array([ 0, -1,  0, -1]), array([-1, -1, -1, -1])]\n",
            "[0. 0. 0. 0.]\n",
            "第1轮迭代:\n",
            "[0 0 0 1] * [0. 0. 0. 0.]=0.0<=0   故w(1)=w(0)+ [0 0 0 1]\n",
            "[1 0 0 1] * [0.  0.  0.  0.5]=0.5>0   故w(2)=w(1)\n",
            "[1 0 1 1] * [0.  0.  0.  0.5]=0.5>0   故w(3)=w(2)\n",
            "[1 1 0 1] * [0.  0.  0.  0.5]=0.5>0   故w(4)=w(3)\n",
            "[ 0  0 -1 -1] * [0.  0.  0.  0.5]=-0.5<=0   故w(5)=w(4)+ [ 0  0 -1 -1]\n",
            "[ 0 -1 -1 -1] * [ 0.   0.  -0.5  0. ]=0.5>0   故w(6)=w(5)\n",
            "[ 0 -1  0 -1] * [ 0.   0.  -0.5  0. ]=0.0<=0   故w(7)=w(6)+ [ 0 -1  0 -1]\n",
            "[-1 -1 -1 -1] * [ 0.  -0.5 -0.5 -0.5]=1.5>0   故w(8)=w(7)\n",
            "第2轮迭代:\n",
            "[0 0 0 1] * [ 0.  -0.5 -0.5 -0.5]=-0.5<=0   故w(9)=w(8)+ [0 0 0 1]\n",
            "[1 0 0 1] * [ 0.  -0.5 -0.5  0. ]=0.0<=0   故w(10)=w(9)+ [1 0 0 1]\n",
            "[1 0 1 1] * [ 0.5 -0.5 -0.5  0.5]=0.5>0   故w(11)=w(10)\n",
            "[1 1 0 1] * [ 0.5 -0.5 -0.5  0.5]=0.5>0   故w(12)=w(11)\n",
            "[ 0  0 -1 -1] * [ 0.5 -0.5 -0.5  0.5]=0.0<=0   故w(13)=w(12)+ [ 0  0 -1 -1]\n",
            "[ 0 -1 -1 -1] * [ 0.5 -0.5 -1.   0. ]=1.5>0   故w(14)=w(13)\n",
            "[ 0 -1  0 -1] * [ 0.5 -0.5 -1.   0. ]=0.5>0   故w(15)=w(14)\n",
            "[-1 -1 -1 -1] * [ 0.5 -0.5 -1.   0. ]=1.0>0   故w(16)=w(15)\n",
            "第3轮迭代:\n",
            "[0 0 0 1] * [ 0.5 -0.5 -1.   0. ]=0.0<=0   故w(17)=w(16)+ [0 0 0 1]\n",
            "[1 0 0 1] * [ 0.5 -0.5 -1.   0.5]=1.0>0   故w(18)=w(17)\n",
            "[1 0 1 1] * [ 0.5 -0.5 -1.   0.5]=0.0<=0   故w(19)=w(18)+ [1 0 1 1]\n",
            "[1 1 0 1] * [ 1.  -0.5 -0.5  1. ]=1.5>0   故w(20)=w(19)\n",
            "[ 0  0 -1 -1] * [ 1.  -0.5 -0.5  1. ]=-0.5<=0   故w(21)=w(20)+ [ 0  0 -1 -1]\n",
            "[ 0 -1 -1 -1] * [ 1.  -0.5 -1.   0.5]=1.0>0   故w(22)=w(21)\n",
            "[ 0 -1  0 -1] * [ 1.  -0.5 -1.   0.5]=0.0<=0   故w(23)=w(22)+ [ 0 -1  0 -1]\n",
            "[-1 -1 -1 -1] * [ 1. -1. -1.  0.]=1.0>0   故w(24)=w(23)\n",
            "第4轮迭代:\n",
            "[0 0 0 1] * [ 1. -1. -1.  0.]=0.0<=0   故w(25)=w(24)+ [0 0 0 1]\n",
            "[1 0 0 1] * [ 1.  -1.  -1.   0.5]=1.5>0   故w(26)=w(25)\n",
            "[1 0 1 1] * [ 1.  -1.  -1.   0.5]=0.5>0   故w(27)=w(26)\n",
            "[1 1 0 1] * [ 1.  -1.  -1.   0.5]=0.5>0   故w(28)=w(27)\n",
            "[ 0  0 -1 -1] * [ 1.  -1.  -1.   0.5]=0.5>0   故w(29)=w(28)\n",
            "[ 0 -1 -1 -1] * [ 1.  -1.  -1.   0.5]=1.5>0   故w(30)=w(29)\n",
            "[ 0 -1  0 -1] * [ 1.  -1.  -1.   0.5]=0.5>0   故w(31)=w(30)\n",
            "[-1 -1 -1 -1] * [ 1.  -1.  -1.   0.5]=0.5>0   故w(32)=w(31)\n",
            "第5轮迭代:\n",
            "[0 0 0 1] * [ 1.  -1.  -1.   0.5]=0.5>0   故w(33)=w(32)\n",
            "[1 0 0 1] * [ 1.  -1.  -1.   0.5]=1.5>0   故w(34)=w(33)\n",
            "[1 0 1 1] * [ 1.  -1.  -1.   0.5]=0.5>0   故w(35)=w(34)\n",
            "[1 1 0 1] * [ 1.  -1.  -1.   0.5]=0.5>0   故w(36)=w(35)\n",
            "[ 0  0 -1 -1] * [ 1.  -1.  -1.   0.5]=0.5>0   故w(37)=w(36)\n",
            "[ 0 -1 -1 -1] * [ 1.  -1.  -1.   0.5]=1.5>0   故w(38)=w(37)\n",
            "[ 0 -1  0 -1] * [ 1.  -1.  -1.   0.5]=0.5>0   故w(39)=w(38)\n",
            "[-1 -1 -1 -1] * [ 1.  -1.  -1.   0.5]=0.5>0   故w(40)=w(39)\n",
            "w: [ 1.  -1.  -1.   0.5]\n",
            "d(x)=1.0*X1+-1.0*X2+-1.0*X3+0.5\n"
          ],
          "name": "stdout"
        }
      ]
    },
    {
      "cell_type": "code",
      "metadata": {
        "id": "OHBxgNyqS6Ib",
        "colab_type": "code",
        "colab": {}
      },
      "source": [
        ""
      ],
      "execution_count": 0,
      "outputs": []
    }
  ]
}